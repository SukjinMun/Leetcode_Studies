{
 "cells": [
  {
   "cell_type": "markdown",
   "id": "ffa849ec",
   "metadata": {},
   "source": [
    "#### Leetcode Problem 1\n",
    "\n",
    "\n",
    "Given an array of integers nums and an integer target, return indices of the two numbers such that they add up to target.\n",
    "\n",
    "You may assume that each input would have exactly one solution, and you may not use the same element twice.\n",
    "\n",
    "You can return the answer in any order.\n",
    "\n",
    " \n",
    "\n",
    "Example 1:\n",
    "\n",
    "Input: nums = [2,7,11,15], target = 9\n",
    "Output: [0,1]\n",
    "Explanation: Because nums[0] + nums[1] == 9, we return [0, 1].\n",
    "Example 2:\n",
    "\n",
    "Input: nums = [3,2,4], target = 6\n",
    "Output: [1,2]\n",
    "Example 3:\n",
    "\n",
    "Input: nums = [3,3], target = 6\n",
    "Output: [0,1]\n",
    " \n",
    "\n",
    "Constraints:\n",
    "\n",
    "2 <= nums.length <= 104\n",
    "-109 <= nums[i] <= 109\n",
    "-109 <= target <= 109\n",
    "Only one valid answer exists.\n",
    " \n",
    "\n",
    "Follow-up: Can you come up with an algorithm that is less than O(n2) time complexity?"
   ]
  },
  {
   "cell_type": "code",
   "execution_count": 2,
   "id": "5399a2bb",
   "metadata": {},
   "outputs": [
    {
     "name": "stdout",
     "output_type": "stream",
     "text": [
      "[0, 1]\n",
      "[1, 2]\n",
      "[0, 1]\n"
     ]
    }
   ],
   "source": [
    "def twoSum(nums, target):\n",
    "    # Create an empty dictionary to store numbers and their indices\n",
    "    num_dict = {}\n",
    "    \n",
    "    # Enumerate through the list of numbers 'nums'\n",
    "    for i, num in enumerate(nums):\n",
    "        # Calculate the complement needed to reach the target sum\n",
    "        complement = target - num\n",
    "        \n",
    "        # Check if the complement is already in the dictionary\n",
    "        if complement in num_dict:\n",
    "            # If found, return the indices of the two numbers\n",
    "            return [num_dict[complement], i]\n",
    "        \n",
    "        # If complement not found, store the current number and its index in the dictionary\n",
    "        num_dict[num] = i\n",
    "    \n",
    "    # Return None if no solution is found\n",
    "    return None\n",
    "\n",
    "\n",
    "# Test cases\n",
    "nums1 = [2, 7, 11, 15]\n",
    "target1 = 9\n",
    "print(twoSum(nums1, target1))  # Output: [0, 1]\n",
    "\n",
    "nums2 = [3, 2, 4]\n",
    "target2 = 6\n",
    "print(twoSum(nums2, target2))  # Output: [1, 2]\n",
    "\n",
    "nums3 = [3, 3]\n",
    "target3 = 6\n",
    "print(twoSum(nums3, target3))  # Output: [0, 1]\n"
   ]
  },
  {
   "cell_type": "markdown",
   "id": "ec6820ba",
   "metadata": {},
   "source": [
    "Deconstruction of the problem:\n",
    "\n",
    "The problem is asking you to find two numbers in a list (array) such that when you add them together, the result is equal to a specific target number. You need to return the indices of these two numbers in the list.\n",
    "\n",
    "For example:\n",
    "- If you have a list `[2, 7, 11, 15]` and the target is `9`, you should find two numbers from the list whose sum is `9` and return their indices. In this case, `2` and `7` (at indices `0` and `1`) sum up to `9`, so the function should return `[0, 1]`.\n",
    "- Similarly, for a list `[3, 2, 4]` with a target of `6`, the numbers `2` and `4` (at indices `1` and `2`) sum up to `6`, so the function should return `[1, 2]`.\n",
    "\n",
    "The task is to find these two numbers and return their indices, assuming there is exactly one valid solution. Additionally, you're not allowed to use the same number from the list twice in finding the pair that sums up to the target."
   ]
  },
  {
   "cell_type": "markdown",
   "id": "d7533202",
   "metadata": {},
   "source": [
    "Deconstruction of the code:\n",
    "1. **`def twoSum(nums, target):`**: This line defines a function called `twoSum` that takes in two parameters: `nums` (the list of integers) and `target` (the target sum).\n",
    "\n",
    "2. **`num_dict = {}`**: This creates an empty dictionary named `num_dict`. This dictionary will store the numbers from the `nums` list as keys and their corresponding indices as values.\n",
    "\n",
    "3. **`for i, num in enumerate(nums):`**: This line starts a loop that iterates through the `nums` list using `enumerate()`. It simultaneously tracks the current index `i` and the value `num`.\n",
    "\n",
    "4. **`complement = target - num`**: Here, the code calculates the complement required to reach the target sum by subtracting the current number `num` from the target value.\n",
    "\n",
    "5. **`if complement in num_dict:`**: This `if` statement checks if the complement exists in the `num_dict` dictionary. If it does, it means that the pair of numbers that sum up to the target has been found.\n",
    "\n",
    "6. **`return [num_dict[complement], i]`**: If the complement is found in the dictionary, it means that its corresponding number that sums up to the target has already been seen earlier. So, it returns the indices of the two numbers found.\n",
    "\n",
    "7. **`num_dict[num] = i`**: If the complement is not found in the dictionary, the code adds the current number `num` as a key to the `num_dict` dictionary and assigns its index `i` as the value.\n",
    "\n",
    "8. **`return None`**: If the loop completes without finding a solution, it returns `None`, indicating that no valid pair of numbers that sum up to the target exists in the given list.\n",
    "\n",
    "This algorithm uses a dictionary to efficiently store previously encountered numbers and their indices, allowing for a quick lookup to find the complement needed to reach the target sum."
   ]
  },
  {
   "cell_type": "code",
   "execution_count": null,
   "id": "0161aa28",
   "metadata": {},
   "outputs": [],
   "source": []
  }
 ],
 "metadata": {
  "kernelspec": {
   "display_name": "Python 3 (ipykernel)",
   "language": "python",
   "name": "python3"
  },
  "language_info": {
   "codemirror_mode": {
    "name": "ipython",
    "version": 3
   },
   "file_extension": ".py",
   "mimetype": "text/x-python",
   "name": "python",
   "nbconvert_exporter": "python",
   "pygments_lexer": "ipython3",
   "version": "3.10.4"
  }
 },
 "nbformat": 4,
 "nbformat_minor": 5
}
