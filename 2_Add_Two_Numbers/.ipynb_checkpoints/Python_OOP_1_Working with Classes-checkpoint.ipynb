{
 "cells": [
  {
   "cell_type": "markdown",
   "id": "0e8c5a95",
   "metadata": {},
   "source": [
    "## Tutorial 1: Classes and Instances\n",
    "- Classes allow us to logically group our data and functions in a way that is easy to reuse and build upon if necessary.\n",
    "\n",
    "#### Terminology associated with class:                  \n",
    "Data & Fucntions   <->    Attributes & Methods  "
   ]
  },
  {
   "cell_type": "markdown",
   "id": "2657f4b0",
   "metadata": {},
   "source": [
    "This is a simple Employee class with no attributes or methods. There is a need to differentiate a class from an instance of a class. A class is essentially a blueprint for creating instances. In our example below, each unique employee that we are going to create will be an instance of the class Employee."
   ]
  },
  {
   "cell_type": "code",
   "execution_count": 5,
   "id": "85fb0131",
   "metadata": {},
   "outputs": [
    {
     "name": "stdout",
     "output_type": "stream",
     "text": [
      "<__main__.Employee object at 0x00000218A59F1060>\n",
      "<__main__.Employee object at 0x00000218A4820E20>\n"
     ]
    }
   ],
   "source": [
    "class Employee:\n",
    "    pass\n",
    "\n",
    "# unique instances of the class\n",
    "emp_1 = Employee()\n",
    "emp_2 = Employee()\n",
    "\n",
    "print(emp_1)\n",
    "print(emp_2)"
   ]
  },
  {
   "cell_type": "markdown",
   "id": "1c86f8c2",
   "metadata": {},
   "source": [
    "The returned output above returns unique employee objects. They have distinct locations and memories."
   ]
  },
  {
   "cell_type": "markdown",
   "id": "f4f2f461",
   "metadata": {},
   "source": [
    "#### Instance Variables: data that is unique to each instance"
   ]
  },
  {
   "cell_type": "code",
   "execution_count": 8,
   "id": "27d454c4",
   "metadata": {},
   "outputs": [
    {
     "name": "stdout",
     "output_type": "stream",
     "text": [
      "SukJin.Mun@company.com\n",
      "Test.User@company.com\n"
     ]
    }
   ],
   "source": [
    "emp_1.first = \"Suk Jin\"\n",
    "emp_1.last = \"Mun\"\n",
    "emp_1.email = \"SukJin.Mun@company.com\"\n",
    "emp_1.pay = 50000\n",
    "\n",
    "emp_2.first = \"Test\"\n",
    "emp_2.last = \"User\"\n",
    "emp_2.email = \"Test.User@company.com\"\n",
    "emp_2.pay = 60000\n",
    "\n",
    "print(emp_1.email)\n",
    "print(emp_2.email)"
   ]
  },
  {
   "cell_type": "markdown",
   "id": "2fee9b39",
   "metadata": {},
   "source": [
    "This time, lets say that we wanted to set all of these information for each employee at the same time when they were created, rather than manually inputting the instance variables every time. This is inefficient as doing so may also give rise to mistakes. To automatically set up these information, we will be using a special init method. Init method can be considered as 'initialize' or a constructor. \n",
    "\n",
    "Whenever we create a class, it perceives the instance as the first argument automatically, and by convention this instance is self, as shown below:"
   ]
  },
  {
   "cell_type": "code",
   "execution_count": 9,
   "id": "c6b14cc5",
   "metadata": {},
   "outputs": [],
   "source": [
    "class Employee:\n",
    "    \n",
    "    # after self, we can specify what other arguments that we want to accept\n",
    "    def __init__(self, first, last, pay):\n",
    "        # instance variable, first name\n",
    "        self.first = first\n",
    "        # instance variable, last name\n",
    "        self.last = last\n",
    "        # instance variable, pay\n",
    "        self.pay = pay\n",
    "        # instance variable, email\n",
    "        self.email = first + \".\" + last + \"@company.com\""
   ]
  },
  {
   "cell_type": "markdown",
   "id": "4091f87c",
   "metadata": {},
   "source": [
    "As shown from the code above, self as an instance means we will be addresssing the created instance variables to all other instances that we will be specifying later on. \n",
    "\n",
    "After defining the class with instance variables, when we create instances as shown below, the instances are passed automatically so we can leave off self. Thus, no more redundant manual assignments are needed."
   ]
  },
  {
   "cell_type": "code",
   "execution_count": 11,
   "id": "ba4c3ef0",
   "metadata": {},
   "outputs": [
    {
     "name": "stdout",
     "output_type": "stream",
     "text": [
      "Suk Jin.Mun@company.com\n",
      "Test.User@company.com\n"
     ]
    }
   ],
   "source": [
    "# create unique instances of the class\n",
    "emp_1 = Employee('Suk Jin','Mun',50000)\n",
    "emp_2 = Employee('Test','User',40000)\n",
    "\n",
    "# print email addresses correspondent to the instances\n",
    "print(emp_1.email)\n",
    "print(emp_2.email)"
   ]
  },
  {
   "cell_type": "markdown",
   "id": "80021f95",
   "metadata": {},
   "source": [
    "#### Methods\n",
    "Now lets see should we want to test the class's ability to perform some actions. To do so, we want to add methods to our class.\n",
    "Lets say we want to print out a full name of an instance."
   ]
  },
  {
   "cell_type": "code",
   "execution_count": 12,
   "id": "3955bec1",
   "metadata": {},
   "outputs": [
    {
     "name": "stdout",
     "output_type": "stream",
     "text": [
      "Suk Jin Mun\n"
     ]
    }
   ],
   "source": [
    "print('{} {}'.format(emp_1.first, emp_1.last))"
   ]
  },
  {
   "cell_type": "markdown",
   "id": "531ef504",
   "metadata": {},
   "source": [
    "This is a lot to type in. Lets create a method within the class to put this functionality in one place."
   ]
  },
  {
   "cell_type": "code",
   "execution_count": 17,
   "id": "57236be4",
   "metadata": {},
   "outputs": [
    {
     "name": "stdout",
     "output_type": "stream",
     "text": [
      "Suk Jin Mun\n"
     ]
    }
   ],
   "source": [
    "class Employee:\n",
    "    \n",
    "    # after self, we can specify what other arguments that we want to accept\n",
    "    def __init__(self, first, last, pay):\n",
    "        # instance variable, first name\n",
    "        self.first = first\n",
    "        # instance variable, last name\n",
    "        self.last = last\n",
    "        # instance variable, pay\n",
    "        self.pay = pay\n",
    "        # instance variable, email\n",
    "        self.email = first + \".\" + last + \"@company.com\"\n",
    "    \n",
    "    # method\n",
    "    def fullname(self):\n",
    "        # note that here we have to put the instance as 'self', so that this method\n",
    "        # works for all other instances!\n",
    "        return ('{} {}'.format(self.first, self.last))\n",
    "\n",
    "\n",
    "emp_1 = Employee('Suk Jin','Mun',50000)\n",
    "\n",
    "# note that we need paranthesis here, because fullname is a method, not an attribute\n",
    "# If no paranthesis is added, print will only return the method object.\n",
    "print (emp_1.fullname()) \n",
    "#print (emp_1.fullname \n"
   ]
  },
  {
   "cell_type": "markdown",
   "id": "5a771e81",
   "metadata": {},
   "source": [
    "#### What happens if we do not include 'self' as an instance argument?\n",
    "Lets try removing the self instance argument from the method and see what results will be returned"
   ]
  },
  {
   "cell_type": "code",
   "execution_count": 18,
   "id": "5a8402cb",
   "metadata": {},
   "outputs": [
    {
     "ename": "TypeError",
     "evalue": "Employee.fullname() takes 0 positional arguments but 1 was given",
     "output_type": "error",
     "traceback": [
      "\u001b[1;31m---------------------------------------------------------------------------\u001b[0m",
      "\u001b[1;31mTypeError\u001b[0m                                 Traceback (most recent call last)",
      "Input \u001b[1;32mIn [18]\u001b[0m, in \u001b[0;36m<cell line: 22>\u001b[1;34m()\u001b[0m\n\u001b[0;32m     18\u001b[0m         \u001b[38;5;28;01mreturn\u001b[39;00m (\u001b[38;5;124m'\u001b[39m\u001b[38;5;132;01m{}\u001b[39;00m\u001b[38;5;124m \u001b[39m\u001b[38;5;132;01m{}\u001b[39;00m\u001b[38;5;124m'\u001b[39m\u001b[38;5;241m.\u001b[39mformat(\u001b[38;5;28mself\u001b[39m\u001b[38;5;241m.\u001b[39mfirst, \u001b[38;5;28mself\u001b[39m\u001b[38;5;241m.\u001b[39mlast))\n\u001b[0;32m     21\u001b[0m emp_1 \u001b[38;5;241m=\u001b[39m Employee(\u001b[38;5;124m'\u001b[39m\u001b[38;5;124mSuk Jin\u001b[39m\u001b[38;5;124m'\u001b[39m,\u001b[38;5;124m'\u001b[39m\u001b[38;5;124mMun\u001b[39m\u001b[38;5;124m'\u001b[39m,\u001b[38;5;241m50000\u001b[39m)\n\u001b[1;32m---> 22\u001b[0m \u001b[38;5;28mprint\u001b[39m (\u001b[43memp_1\u001b[49m\u001b[38;5;241;43m.\u001b[39;49m\u001b[43mfullname\u001b[49m\u001b[43m(\u001b[49m\u001b[43m)\u001b[49m)\n",
      "\u001b[1;31mTypeError\u001b[0m: Employee.fullname() takes 0 positional arguments but 1 was given"
     ]
    }
   ],
   "source": [
    "class Employee:\n",
    "    \n",
    "    # after self, we can specify what other arguments that we want to accept\n",
    "    def __init__(self, first, last, pay):\n",
    "        # instance variable, first name\n",
    "        self.first = first\n",
    "        # instance variable, last name\n",
    "        self.last = last\n",
    "        # instance variable, pay\n",
    "        self.pay = pay\n",
    "        # instance variable, email\n",
    "        self.email = first + \".\" + last + \"@company.com\"\n",
    "    \n",
    "    # method\n",
    "    def fullname():\n",
    "        # note that here we have to put the instance as 'self', so that this method\n",
    "        # works for all other instances!\n",
    "        return ('{} {}'.format(self.first, self.last))\n",
    "\n",
    "\n",
    "emp_1 = Employee('Suk Jin','Mun',50000)\n",
    "print (emp_1.fullname()) \n"
   ]
  },
  {
   "cell_type": "markdown",
   "id": "a5a75db8",
   "metadata": {},
   "source": [
    "TypeError: Employee.fullname() takes 0 positional arguments but 1 was given\n",
    "-> This may appear to be confusing, because it doesn't look like we are passing any arguments in print (emp_1.fullname()).\n",
    "BUT the instance, in the example above that would be emp_1, is getting passed automatically. SO we have to expect the\n",
    "instance argument in our method. This is exactly why we always add 'self'."
   ]
  },
  {
   "cell_type": "code",
   "execution_count": 20,
   "id": "2aaeaea5",
   "metadata": {},
   "outputs": [
    {
     "name": "stdout",
     "output_type": "stream",
     "text": [
      "Suk Jin Mun\n",
      "Suk Jin Mun\n"
     ]
    }
   ],
   "source": [
    "class Employee:\n",
    "    \n",
    "    # after self, we can specify what other arguments that we want to accept\n",
    "    def __init__(self, first, last, pay):\n",
    "        # instance variable, first name\n",
    "        self.first = first\n",
    "        # instance variable, last name\n",
    "        self.last = last\n",
    "        # instance variable, pay\n",
    "        self.pay = pay\n",
    "        # instance variable, email\n",
    "        self.email = first + \".\" + last + \"@company.com\"\n",
    "    \n",
    "    # method\n",
    "    def fullname(self):\n",
    "        # note that here we have to put the instance as 'self', so that this method\n",
    "        # works for all other instances!\n",
    "        return ('{} {}'.format(self.first, self.last))\n",
    "\n",
    "\n",
    "emp_1 = Employee('Suk Jin','Mun',50000)\n",
    "\n",
    "# Note that two lines essentially do the same thing but are different.\n",
    "# first line:  instance -> call method. I don't need to pass in self because it does it automatically\n",
    "# second line: class -> call method. Doesn't know the instance we want to run that method, so we pass in the instance manually,\n",
    "# which will then be passed in as self.\n",
    "print (emp_1.fullname()) \n",
    "print (Employee.fullname(emp_1))"
   ]
  }
 ],
 "metadata": {
  "kernelspec": {
   "display_name": "Python 3 (ipykernel)",
   "language": "python",
   "name": "python3"
  },
  "language_info": {
   "codemirror_mode": {
    "name": "ipython",
    "version": 3
   },
   "file_extension": ".py",
   "mimetype": "text/x-python",
   "name": "python",
   "nbconvert_exporter": "python",
   "pygments_lexer": "ipython3",
   "version": "3.10.4"
  }
 },
 "nbformat": 4,
 "nbformat_minor": 5
}
