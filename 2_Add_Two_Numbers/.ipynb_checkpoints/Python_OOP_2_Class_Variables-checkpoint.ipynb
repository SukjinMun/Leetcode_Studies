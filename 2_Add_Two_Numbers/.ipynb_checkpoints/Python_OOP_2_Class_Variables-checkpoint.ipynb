{
 "cells": [
  {
   "cell_type": "markdown",
   "id": "b433a6d3",
   "metadata": {},
   "source": [
    "#### Class Variable\n",
    "class variables are variables that are shared among all instances of a class, while instance variables are unique for each instane.\n",
    "\n",
    "e.g) names, email address and pay can be distinct for each individual employees. However, class variables should be the same for each instance. \n",
    "\n",
    "In our case, lets say the company's annual raise is the class variable, which is equivalently applied to all employees in the company."
   ]
  },
  {
   "cell_type": "code",
   "execution_count": 15,
   "id": "3d26d3fc",
   "metadata": {},
   "outputs": [
    {
     "name": "stdout",
     "output_type": "stream",
     "text": [
      "50000\n",
      "52000\n"
     ]
    }
   ],
   "source": [
    "class Employee:\n",
    "    \n",
    "    def __init__(self, first, last, pay):\n",
    "        self.first = first\n",
    "        self.last = last\n",
    "        self.pay = pay\n",
    "        self.email = first + \".\" + last + \"@company.com\"\n",
    "    \n",
    "    def fullname(self):\n",
    "        return ('{} {}'.format(self.first, self.last))\n",
    "    \n",
    "    def apply_raise(self):\n",
    "        self.pay = int(self.pay * 1.04)\n",
    "\n",
    "\n",
    "emp_1 = Employee('Suk Jin','Mun',50000)\n",
    "emp_2 = Employee('Test', 'User', 20000)\n",
    "\n",
    "print (emp_1.pay)\n",
    "emp_1.apply_raise()\n",
    "print (emp_1.pay)\n"
   ]
  },
  {
   "cell_type": "markdown",
   "id": "c37a883e",
   "metadata": {},
   "source": [
    "But we should realize the annual raise has to be manually updated. Instead, we want to include this attribute somewhere within the method such that we don't have to manually update it every time.\n",
    "\n",
    "To do this, we can pull the 4% raise out into a variable. "
   ]
  },
  {
   "cell_type": "code",
   "execution_count": 16,
   "id": "fcba821c",
   "metadata": {},
   "outputs": [
    {
     "name": "stdout",
     "output_type": "stream",
     "text": [
      "50000\n"
     ]
    },
    {
     "ename": "NameError",
     "evalue": "name 'raise_amount' is not defined",
     "output_type": "error",
     "traceback": [
      "\u001b[1;31m---------------------------------------------------------------------------\u001b[0m",
      "\u001b[1;31mNameError\u001b[0m                                 Traceback (most recent call last)",
      "Input \u001b[1;32mIn [16]\u001b[0m, in \u001b[0;36m<cell line: 24>\u001b[1;34m()\u001b[0m\n\u001b[0;32m     21\u001b[0m emp_2 \u001b[38;5;241m=\u001b[39m Employee(\u001b[38;5;124m'\u001b[39m\u001b[38;5;124mTest\u001b[39m\u001b[38;5;124m'\u001b[39m, \u001b[38;5;124m'\u001b[39m\u001b[38;5;124mUser\u001b[39m\u001b[38;5;124m'\u001b[39m, \u001b[38;5;241m20000\u001b[39m)\n\u001b[0;32m     23\u001b[0m \u001b[38;5;28mprint\u001b[39m (emp_1\u001b[38;5;241m.\u001b[39mpay)\n\u001b[1;32m---> 24\u001b[0m \u001b[43memp_1\u001b[49m\u001b[38;5;241;43m.\u001b[39;49m\u001b[43mapply_raise\u001b[49m\u001b[43m(\u001b[49m\u001b[43m)\u001b[49m\n\u001b[0;32m     25\u001b[0m \u001b[38;5;28mprint\u001b[39m (emp_1\u001b[38;5;241m.\u001b[39mpay)\n",
      "Input \u001b[1;32mIn [16]\u001b[0m, in \u001b[0;36mEmployee.apply_raise\u001b[1;34m(self)\u001b[0m\n\u001b[0;32m     16\u001b[0m \u001b[38;5;28;01mdef\u001b[39;00m \u001b[38;5;21mapply_raise\u001b[39m(\u001b[38;5;28mself\u001b[39m):\n\u001b[1;32m---> 17\u001b[0m     \u001b[38;5;28mself\u001b[39m\u001b[38;5;241m.\u001b[39mpay \u001b[38;5;241m=\u001b[39m \u001b[38;5;28mint\u001b[39m(\u001b[38;5;28mself\u001b[39m\u001b[38;5;241m.\u001b[39mpay \u001b[38;5;241m*\u001b[39m \u001b[43mraise_amount\u001b[49m)\n",
      "\u001b[1;31mNameError\u001b[0m: name 'raise_amount' is not defined"
     ]
    }
   ],
   "source": [
    "class Employee:\n",
    "    \n",
    "    raise_amount = 1.04\n",
    "    \n",
    "    def __init__(self, first, last, pay):\n",
    "        self.first = first\n",
    "        self.last = last\n",
    "        self.pay = pay\n",
    "        self.email = first + \".\" + last + \"@company.com\"\n",
    "    \n",
    "    def fullname(self):\n",
    "        return ('{} {}'.format(self.first, self.last))\n",
    "    \n",
    "    # We replace the increment of 4 percent with the class variable that we just defined\n",
    "    # above.\n",
    "    def apply_raise(self):\n",
    "        self.pay = int(self.pay * raise_amount)\n",
    "\n",
    "\n",
    "emp_1 = Employee('Suk Jin','Mun',50000)\n",
    "emp_2 = Employee('Test', 'User', 20000)\n",
    "\n",
    "print (emp_1.pay)\n",
    "emp_1.apply_raise()\n",
    "print (emp_1.pay)"
   ]
  },
  {
   "cell_type": "markdown",
   "id": "84cded3e",
   "metadata": {},
   "source": [
    "NameError: name 'raise_amount' is not defined\n",
    "--> raise_amount is not defined because class variables have to be accessed through the class itself or instance of the correspondent class. Thus the code should instead be:"
   ]
  },
  {
   "cell_type": "code",
   "execution_count": 17,
   "id": "1d812c6f",
   "metadata": {},
   "outputs": [
    {
     "name": "stdout",
     "output_type": "stream",
     "text": [
      "50000\n",
      "52000\n"
     ]
    }
   ],
   "source": [
    "class Employee:\n",
    "    \n",
    "    raise_amount = 1.04\n",
    "    \n",
    "    def __init__(self, first, last, pay):\n",
    "        self.first = first\n",
    "        self.last = last\n",
    "        self.pay = pay\n",
    "        self.email = first + \".\" + last + \"@company.com\"\n",
    "    \n",
    "    def fullname(self):\n",
    "        return ('{} {}'.format(self.first, self.last))\n",
    "    \n",
    "    # We replace the increment of 4 percent with the class variable that we just defined\n",
    "    # above.\n",
    "    def apply_raise(self):\n",
    "        self.pay = int(self.pay * Employee.raise_amount)\n",
    "\n",
    "\n",
    "emp_1 = Employee('Suk Jin','Mun',50000)\n",
    "emp_2 = Employee('Test', 'User', 20000)\n",
    "\n",
    "print (emp_1.pay)\n",
    "emp_1.apply_raise()\n",
    "print (emp_1.pay)"
   ]
  },
  {
   "cell_type": "markdown",
   "id": "6b76f7fa",
   "metadata": {},
   "source": [
    "So if raise_amount is a class variable, then why can we access them through the instance?\n",
    "We see that below, we can access the class variable either through the class itself and its instances.\n",
    "What happens is that when we try to acccess the attribute of an instance, it will first check whether that instances contains that attribute. If it doesn't, then it will check if the class or any class that it inherits from contains that attribute.\n",
    "Thus, when we access the instances emp_1 and emp_2, they do not have the attribute raise_amount themselves, so they are accessing the class variable from Employee.  "
   ]
  },
  {
   "cell_type": "code",
   "execution_count": 18,
   "id": "f74de4d6",
   "metadata": {},
   "outputs": [
    {
     "name": "stdout",
     "output_type": "stream",
     "text": [
      "1.04\n",
      "1.04\n",
      "1.04\n"
     ]
    }
   ],
   "source": [
    "print (Employee.raise_amount)\n",
    "print (emp_1.raise_amount)\n",
    "print (emp_2.raise_amount)"
   ]
  },
  {
   "cell_type": "markdown",
   "id": "fbec49f2",
   "metadata": {},
   "source": [
    "We can see there is no raise_amount from the respective instances. However, we can check that the class Employee does."
   ]
  },
  {
   "cell_type": "code",
   "execution_count": 21,
   "id": "74150b78",
   "metadata": {},
   "outputs": [
    {
     "name": "stdout",
     "output_type": "stream",
     "text": [
      "{'first': 'Suk Jin', 'last': 'Mun', 'pay': 52000, 'email': 'Suk Jin.Mun@company.com'}\n",
      "{'first': 'Test', 'last': 'User', 'pay': 20000, 'email': 'Test.User@company.com'}\n"
     ]
    }
   ],
   "source": [
    "print(emp_1.__dict__)\n",
    "print(emp_2.__dict__)"
   ]
  },
  {
   "cell_type": "code",
   "execution_count": 22,
   "id": "f31e3e09",
   "metadata": {
    "scrolled": true
   },
   "outputs": [
    {
     "name": "stdout",
     "output_type": "stream",
     "text": [
      "{'__module__': '__main__', 'raise_amount': 1.04, '__init__': <function Employee.__init__ at 0x000001E0516E2560>, 'fullname': <function Employee.fullname at 0x000001E0516E2680>, 'apply_raise': <function Employee.apply_raise at 0x000001E0516E0C10>, '__dict__': <attribute '__dict__' of 'Employee' objects>, '__weakref__': <attribute '__weakref__' of 'Employee' objects>, '__doc__': None}\n"
     ]
    }
   ],
   "source": [
    "print(Employee.__dict__)"
   ]
  },
  {
   "cell_type": "code",
   "execution_count": 23,
   "id": "0c53b7b8",
   "metadata": {},
   "outputs": [
    {
     "name": "stdout",
     "output_type": "stream",
     "text": [
      "1.05\n",
      "1.05\n",
      "1.05\n"
     ]
    }
   ],
   "source": [
    "class Employee:\n",
    "    \n",
    "    raise_amount = 1.04\n",
    "    \n",
    "    def __init__(self, first, last, pay):\n",
    "        self.first = first\n",
    "        self.last = last\n",
    "        self.pay = pay\n",
    "        self.email = first + \".\" + last + \"@company.com\"\n",
    "    \n",
    "    def fullname(self):\n",
    "        return ('{} {}'.format(self.first, self.last))\n",
    "    \n",
    "    # We replace the increment of 4 percent with the class variable that we just defined\n",
    "    # above.\n",
    "    def apply_raise(self):\n",
    "        self.pay = int(self.pay * Employee.raise_amount)\n",
    "\n",
    "\n",
    "emp_1 = Employee('Suk Jin','Mun',50000)\n",
    "emp_2 = Employee('Test', 'User', 20000)\n",
    "\n",
    "# changing class variable by calling class\n",
    "Employee.raise_amount = 1.05\n",
    "\n",
    "print (Employee.raise_amount)\n",
    "print (emp_1.raise_amount)\n",
    "print (emp_2.raise_amount)"
   ]
  },
  {
   "cell_type": "code",
   "execution_count": 33,
   "id": "9f9dd098",
   "metadata": {},
   "outputs": [
    {
     "name": "stdout",
     "output_type": "stream",
     "text": [
      "1.04\n",
      "1.05\n",
      "1.04\n"
     ]
    }
   ],
   "source": [
    "class Employee:\n",
    "    \n",
    "    raise_amount = 1.04\n",
    "    \n",
    "    def __init__(self, first, last, pay):\n",
    "        self.first = first\n",
    "        self.last = last\n",
    "        self.pay = pay\n",
    "        self.email = first + \".\" + last + \"@company.com\"\n",
    "    \n",
    "    def fullname(self):\n",
    "        return ('{} {}'.format(self.first, self.last))\n",
    "    \n",
    "    # We replace the increment of 4 percent with the class variable that we just defined\n",
    "    # above.\n",
    "    def apply_raise(self):\n",
    "        self.pay = int(self.pay * Employee.raise_amount)\n",
    "\n",
    "\n",
    "emp_1 = Employee('Suk Jin','Mun',50000)\n",
    "emp_2 = Employee('Test', 'User', 20000)\n",
    "\n",
    "# changing only the attribute for instance emp_1\n",
    "emp_1.raise_amount = 1.05\n",
    "\n",
    "print (Employee.raise_amount)\n",
    "print (emp_1.raise_amount)\n",
    "print (emp_2.raise_amount)"
   ]
  },
  {
   "cell_type": "markdown",
   "id": "e1430554",
   "metadata": {},
   "source": [
    "We realize that emp_1 has raised amount within its namespace AND returns that value BEFORE searching the class. We didn't set this for emp_2, such taht raise_amount still falls back to the class variable value.\n",
    "\n",
    "Thus, by registering self.raise_amount wihtin the method, we have the ability to change that amount for a single instance if we really wanted to, just like we have specified the instance variable after defining the method in the example.\n",
    "\n",
    "Using self will allow any subclass to override the attribute constant (in our case, the raise_amount)."
   ]
  },
  {
   "cell_type": "markdown",
   "id": "111378e5",
   "metadata": {},
   "source": [
    "Lets look at another case of class variable where using self wouldn't make sense:"
   ]
  },
  {
   "cell_type": "code",
   "execution_count": 38,
   "id": "664f533b",
   "metadata": {},
   "outputs": [
    {
     "name": "stdout",
     "output_type": "stream",
     "text": [
      "0\n",
      "1\n",
      "2\n",
      "{'__module__': '__main__', 'num_of_emps': 2, 'raise_amount': 1.04, '__init__': <function Employee.__init__ at 0x000001E051770C10>, 'fullname': <function Employee.fullname at 0x000001E051771F30>, 'apply_raise': <function Employee.apply_raise at 0x000001E051771FC0>, '__dict__': <attribute '__dict__' of 'Employee' objects>, '__weakref__': <attribute '__weakref__' of 'Employee' objects>, '__doc__': None}\n"
     ]
    }
   ],
   "source": [
    "class Employee:\n",
    "    \n",
    "    # Each time when new instances are created, I want to increment this class variable\n",
    "    num_of_emps = 0\n",
    "    raise_amount = 1.04\n",
    "    \n",
    "    def __init__(self, first, last, pay):\n",
    "        self.first = first\n",
    "        self.last = last\n",
    "        self.pay = pay\n",
    "        self.email = first + \".\" + last + \"@company.com\"\n",
    "        # init method is run every time we create a new instance.\n",
    "        \n",
    "        # Now, I could have used self.num_of_emps. But the number of employees should stay the same despite of \n",
    "        # how many instantiated employees are created. So there is no need for me to change this value for a single\n",
    "        # instance like the previous example.\n",
    "        Employee.num_of_emps += 1\n",
    "        \n",
    "    def fullname(self):\n",
    "        return ('{} {}'.format(self.first, self.last))\n",
    "    \n",
    "    # We replace the increment of 4 percent with the class variable that we just defined\n",
    "    # above.\n",
    "    def apply_raise(self):\n",
    "        self.pay = int(self.pay * Employee.raise_amount)\n",
    "\n",
    "print(Employee.num_of_emps)\n",
    "emp_1 = Employee('Suk Jin','Mun',50000)\n",
    "\n",
    "print(Employee.num_of_emps)\n",
    "emp_2 = Employee('Test', 'User', 20000)\n",
    "\n",
    "print(Employee.num_of_emps)\n",
    "print(Employee.__dict__)"
   ]
  }
 ],
 "metadata": {
  "kernelspec": {
   "display_name": "Python 3 (ipykernel)",
   "language": "python",
   "name": "python3"
  },
  "language_info": {
   "codemirror_mode": {
    "name": "ipython",
    "version": 3
   },
   "file_extension": ".py",
   "mimetype": "text/x-python",
   "name": "python",
   "nbconvert_exporter": "python",
   "pygments_lexer": "ipython3",
   "version": "3.10.4"
  }
 },
 "nbformat": 4,
 "nbformat_minor": 5
}
