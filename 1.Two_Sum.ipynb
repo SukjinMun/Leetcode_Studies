{
 "cells": [
  {
   "cell_type": "markdown",
   "id": "f734ca4a",
   "metadata": {},
   "source": [
    "## Leetcode Problem 1\n",
    "\n",
    "\n",
    "Given an array of integers nums and an integer target, return indices of the two numbers such that they add up to target.\n",
    "You may assume that each input would have exactly one solution, and you may not use the same element twice.\n",
    "You can return the answer in any order.\n",
    "\n",
    "\n",
    "Example 1:\n",
    "\n",
    "Input: nums = [2,7,11,15], target = 9\n",
    "Output: [0,1]\n",
    "Explanation: Because nums[0] + nums[1] == 9, we return [0, 1].\n",
    "Example 2:\n",
    "\n",
    "Input: nums = [3,2,4], target = 6\n",
    "Output: [1,2]\n",
    "Example 3:\n",
    "\n",
    "Input: nums = [3,3], target = 6\n",
    "Output: [0,1]\n"
   ]
  },
  {
   "cell_type": "markdown",
   "id": "a4408078",
   "metadata": {},
   "source": [
    "## Deconstruction of the problem:\n",
    "The problem is asking one to find two numbers wihtin the given list such that when these two numbers are added together, the result is equal to the specified target number -> Then, we would like to return the index of these two numbers as an array.\n",
    "\n",
    "It is assumed that there is always one unique solution + same number from the list cannot be used twice in finding the pair that sums up to the target."
   ]
  },
  {
   "cell_type": "markdown",
   "id": "00208fc4",
   "metadata": {},
   "source": [
    "## Deconstruction of the solution:\n",
    "1. Assume we are given an input array of 2, 1, 5, 3, and a target value of 4.\n",
    "2. Brute force: check every combination of two values that sum up to the target\n",
    "   -> start with 2, check if any of the numbers sum up to 4\n",
    "   -> in this case, no solution\n",
    "   -> start with 1, check if any of the other subsequent numbers (now we don't repeat the proceess for 2, this is already excluded previously)\n",
    "   -> 1 and 3, solution is [1, 3]\n",
    "   -> BUT apparently run time of this algorithm is not efficient. This means we are going through entire array of length n, worst case n times for each number, overall time complexity of O(n^2). \n",
    "   \n",
    "*Note:\n",
    "\n",
    "The reason for the difference, 4x4=16 and n×(n−1)=4x3=12, is that the O(n^2) time complexity is a simplification that assumes each element is compared with every other element, including itself. This simplification often doesn't exactly match practical implementation, especially when such comparisons are redundant (like comparing an element with itself).\n",
    "\n",
    "For a brute force solution, a more accurate description would be that each of the n elements is compared with the n - 1 other elements, avoiding self-comparison. So the total number of comparisons is n × (n - 1). For n = 4, this would be 4 × 3 = 12.\n",
    "\n",
    "In our example, each element is compared with every other element exactly once, which is the practical approach to the problem and results in 12 comparisons. The theoretical O(n^2) time complexity overestimates this to account for all possible pairwise comparisons, including self-comparisons and repeated comparisons in both directions (A with B, and B with A), leading to the number 16. However, in practical implementations, such as our example, these redundant comparisons are typically avoided, hence the actual number of comparisons is less than the theoretical maximum.\n",
    "    \n",
    "3. The condition of the problem (sum should equal to target) can actually be re-interpreted such that: instead of looking for sum itself, we can also look for the difference. For instance, for value 1 in the given array, we can search for the difference, 4-1=3, in the array since the answer is unique anyways. In this way, we don't have to check every possible combinations of sum, instead we only have to check whether this differnce (3 in this very example) exists within the array.\n",
    "\n",
    "4. We know that for our example, the index for the array is:\n",
    "\n",
    "                 Index:    0 1 2 3\n",
    "                 Array:   |2|1|5|3|\n",
    "                \n",
    "Using HashMap eases the problem:\n",
    "\n",
    "                   <HashMap>\n",
    "                 value : index\n",
    "\n",
    "It would be nice to put all the arrays in to the HashMap without reiterating the process, but problems may occur when there the element equals the difference to the target value (in this case, 2, where 4-2=2). To avoid this problem, there is a smart way to stack up the HashMap:\n",
    "\n",
    "    a)Initially, the HashMap is empty\n",
    "    \n",
    "    b)We get to the first index value, 2. We realize the difference 4-2=2, does not correspond to any of the values within the Hashmap (which is empty at this stage).\n",
    "    \n",
    "    c)This concludes \"visiting\" the first index, 2. We will add it up in our HashMap:\n",
    "    \n",
    "                   <HashMap>\n",
    "                 value : index\n",
    "                   2   :   0\n",
    "                   \n",
    "    d)We get to the second index value, 1. We realize the difference 4-1=3, does not correspond to any of the values within the Hashmap\n",
    "    \n",
    "    e)We are done \"visiting\" the second index, 1. We will add this up to the Hashmap as well:\n",
    "    \n",
    "                   <HashMap>\n",
    "                 value : index\n",
    "                   2   :   0\n",
    "                   1   :   1\n",
    "                   \n",
    "    f)Same process is iterated for index 2, and here is the updated HashMap:\n",
    "    \n",
    "                   <HashMap>\n",
    "                 value : index\n",
    "                   2   :   0\n",
    "                   1   :   1\n",
    "                   5   :   2\n",
    "                   \n",
    "    g)When visiting the index 3, we realize that 4-3=1 exists inside the HashMap, which is index 1.\n",
    "    \n",
    "    h)Now we know the two values that add up to the target value. Their indices are 1 and 3, returning the array [1, 3].\n",
    "    \n",
    "5. With this algorithm, we do not have to initilize our HashMap. We are iterating through the given array in one-pass. Its also important to realize that we are guaranteed to find the solution by constantly visiting the HashMap. Since we only have to iterate through the array once, and that we are adding the values to the HashMap + checking the values in the HashMap by constant time operation, the time complexity is O(n). We are using extra memory (HashMap), so the memory complexity is also O(n), since we are also potentially adding every value to the HashMap."
   ]
  },
  {
   "cell_type": "markdown",
   "id": "99db3978",
   "metadata": {},
   "source": [
    "## Code #1"
   ]
  },
  {
   "cell_type": "code",
   "execution_count": 4,
   "id": "15ab8ae2",
   "metadata": {},
   "outputs": [
    {
     "name": "stdout",
     "output_type": "stream",
     "text": [
      "[0, 1]\n",
      "[1, 2]\n",
      "[0, 1]\n"
     ]
    }
   ],
   "source": [
    "#define function twosum\n",
    "def twoSum(nums, target):\n",
    "    # Create an empty dictionary (hashmap) to store numbers and their indices\n",
    "    hashmap = {}\n",
    "    \n",
    "    # iterate for index&number pair in the array 'nums'\n",
    "    for i, n in enumerate(nums):\n",
    "        # Calculate the difference needed to reach the target sum\n",
    "        difference = target - n\n",
    "        # If the difference is already in the hashmap, then return the two numbers as an array\n",
    "        if difference in hashmap:\n",
    "            return [hashmap[difference], i]\n",
    "        # If difference not found, store the current number as the key and its index as the value in the hashmap\n",
    "        hashmap[n] = i\n",
    "    \n",
    "    # Return None if no solution is found\n",
    "    return None\n",
    "\n",
    "# Test cases\n",
    "nums1 = [2, 7, 11, 15]\n",
    "target1 = 9\n",
    "print(twoSum(nums1, target1))  # Output: [0, 1]\n",
    "\n",
    "nums2 = [3, 2, 4]\n",
    "target2 = 6\n",
    "print(twoSum(nums2, target2))  # Output: [1, 2]\n",
    "\n",
    "nums3 = [3, 3]\n",
    "target3 = 6\n",
    "print(twoSum(nums3, target3))  # Output: [0, 1]\n"
   ]
  },
  {
   "cell_type": "markdown",
   "id": "b75849d1",
   "metadata": {},
   "source": [
    "## Code #2"
   ]
  },
  {
   "cell_type": "code",
   "execution_count": 10,
   "id": "a73e4fa6",
   "metadata": {},
   "outputs": [
    {
     "name": "stdout",
     "output_type": "stream",
     "text": [
      "[0, 1]\n"
     ]
    }
   ],
   "source": [
    "#Essentially the same as Code #1, except now we are incorporating twoSum as a method within the class Solution\n",
    "#for generalized extensibility of the code\n",
    "\n",
    "class Solution:\n",
    "    def twoSum(self, nums, target):\n",
    "        \n",
    "        # value : index\n",
    "        hashmap = {}\n",
    "        for i, n in enumerate(nums):\n",
    "            # if solution is found\n",
    "            difference = target - n\n",
    "            if difference in hashmap:\n",
    "                return [hashmap[difference], i]\n",
    "            # if solution is not found\n",
    "            hashmap[n] = i\n",
    "       \n",
    "        # return none and hashmap if no solution after iteration    \n",
    "        return None, hashmap\n",
    "\n",
    "\n",
    "# Create an instance to the class solution\n",
    "my_solution = Solution()\n",
    "\n",
    "# Test\n",
    "nums1 = [2, 7, 11, 15]\n",
    "target1 = 9\n",
    "\n",
    "print (my_solution.twoSum(nums1, target1))\n"
   ]
  },
  {
   "cell_type": "markdown",
   "id": "eb51f1fe",
   "metadata": {},
   "source": [
    "## Code #3"
   ]
  },
  {
   "cell_type": "code",
   "execution_count": 20,
   "id": "e6a05427",
   "metadata": {},
   "outputs": [
    {
     "name": "stdout",
     "output_type": "stream",
     "text": [
      "[0, 1]\n"
     ]
    }
   ],
   "source": [
    "class Solution:\n",
    "    #use List with a capital \"L\" from the typing module if you're including type hints in Python 3.5 or newer. \n",
    "    #Otherwise, you don't need to specify the type at all in the method signature.\n",
    "    def twoSum(self, nums:List[int], target:int)->List[int]:\n",
    "        \n",
    "        # hashmap dictionary= value: index\n",
    "        hashmap = {}\n",
    "        for i, n in enumerate(nums):\n",
    "            # if solution is found - the line for defining difference is omitted \n",
    "            if target-n in hashmap:\n",
    "                return [hashmap[target-n], i]\n",
    "            # if solution is not found\n",
    "            hashmap[n] = i\n",
    "\n",
    "            \n",
    "# Create an instance of the Solution class\n",
    "my_solution = Solution()\n",
    "\n",
    "# Test\n",
    "nums1 = [2, 7, 11, 15]\n",
    "target1 = 9\n",
    "\n",
    "# The expected output should be [0, 1] because nums1[0] + nums1[1] == 9\n",
    "print(my_solution.twoSum(nums1, target1))\n"
   ]
  },
  {
   "cell_type": "code",
   "execution_count": null,
   "id": "1516d325",
   "metadata": {},
   "outputs": [],
   "source": []
  }
 ],
 "metadata": {
  "kernelspec": {
   "display_name": "Python 3 (ipykernel)",
   "language": "python",
   "name": "python3"
  },
  "language_info": {
   "codemirror_mode": {
    "name": "ipython",
    "version": 3
   },
   "file_extension": ".py",
   "mimetype": "text/x-python",
   "name": "python",
   "nbconvert_exporter": "python",
   "pygments_lexer": "ipython3",
   "version": "3.10.4"
  }
 },
 "nbformat": 4,
 "nbformat_minor": 5
}
