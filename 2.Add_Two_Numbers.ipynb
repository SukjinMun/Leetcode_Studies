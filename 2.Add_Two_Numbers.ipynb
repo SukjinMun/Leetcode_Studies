{
 "cells": [
  {
   "cell_type": "markdown",
   "id": "e1e435fe",
   "metadata": {},
   "source": [
    "## Problem 2\n",
    "You are given two non-empty linked lists representing two non-negative integers. The digits are stored in reverse order, and each of their nodes contains a single digit. Add the two numbers and return the sum as a linked list.\n",
    "\n",
    "You may assume the two numbers do not contain any leading zero, except the number 0 itself.\n",
    "\n",
    " \n",
    "\n",
    "#### Example 1:\n",
    "![Image Description](https://assets.leetcode.com/uploads/2020/10/02/addtwonumber1.jpg)\n",
    "Input: l1 = [2,4,3], l2 = [5,6,4]\n",
    "Output: [7,0,8]\n",
    "Explanation: 342 + 465 = 807.\n",
    "\n",
    "\n",
    "#### Example 2:\n",
    "Input: l1 = [0], l2 = [0]\n",
    "Output: [0]\n",
    "Example 3:\n",
    "\n",
    "Input: l1 = [9,9,9,9,9,9,9], l2 = [9,9,9,9]\n",
    "Output: [8,9,9,9,0,0,0,1]\n",
    " \n",
    "\n",
    "#### Constraints:\n",
    "The number of nodes in each linked list is in the range [1, 100].\n",
    "0 <= Node.val <= 9\n",
    "It is guaranteed that the list represents a number that does not have leading zeros."
   ]
  },
  {
   "cell_type": "code",
   "execution_count": 4,
   "id": "d9ce226e",
   "metadata": {},
   "outputs": [],
   "source": [
    "# Definition for singly-linked list.\n",
    "class ListNode:\n",
    "    def __init__(self, val=0, next=None):\n",
    "        self.val = val  # Initialize the node value\n",
    "        self.next = next  # Initialize the pointer to the next node\n",
    "\n",
    "def addTwoNumbers(l1, l2):\n",
    "    # Create a dummy node to serve as the head of the result linked list\n",
    "    dummy = ListNode(0)\n",
    "    current = dummy  # Initialize a pointer to the dummy node\n",
    "    carry = 0  # Initialize a variable to hold the carry value during addition\n",
    "\n",
    "    # Traverse both linked lists until they reach the end or there is a carry\n",
    "    while l1 or l2 or carry:\n",
    "        # Calculate the sum of the current digits along with any carry from the previous addition\n",
    "        sum_val = (l1.val if l1 else 0) + (l2.val if l2 else 0) + carry\n",
    "        \n",
    "        carry = sum_val // 10  # Calculate the carry for the next iteration\n",
    "        current.next = ListNode(sum_val % 10)  # Create a new node with the sum value\n",
    "        \n",
    "        current = current.next  # Move the current pointer to the next node in the result list\n",
    "        l1 = l1.next if l1 else None  # Move to the next node in l1 (if available)\n",
    "        l2 = l2.next if l2 else None  # Move to the next node in l2 (if available)\n",
    "    \n",
    "    return dummy.next  # Return the next node after the dummy node, which is the head of the resulting linked list"
   ]
  },
  {
   "cell_type": "code",
   "execution_count": 5,
   "id": "8fb9c30e",
   "metadata": {},
   "outputs": [
    {
     "name": "stdout",
     "output_type": "stream",
     "text": [
      "7 0 8 "
     ]
    }
   ],
   "source": [
    "# Create two example linked lists\n",
    "# Example 1: l1 = [2, 4, 3], l2 = [5, 6, 4]\n",
    "l1 = ListNode(2)\n",
    "l1.next = ListNode(4)\n",
    "l1.next.next = ListNode(3)\n",
    "\n",
    "l2 = ListNode(5)\n",
    "l2.next = ListNode(6)\n",
    "l2.next.next = ListNode(4)\n",
    "\n",
    "# Call the addTwoNumbers function with the two linked lists as arguments\n",
    "result = addTwoNumbers(l1, l2)\n",
    "\n",
    "# Print the resulting linked list to see the output\n",
    "while result:\n",
    "    print(result.val, end=\" \")\n",
    "    result = result.next"
   ]
  },
  {
   "cell_type": "markdown",
   "id": "713435d5",
   "metadata": {},
   "source": [
    "## Deconstruction of the Problem:\n",
    "\n",
    "### Problem Statement:\n",
    "You're given two non-empty linked lists representing two non-negative integers. The digits are stored in reverse order, and each node of the linked list contains a single digit. Your task is to add the two numbers and return the sum as a linked list.\n",
    "\n",
    "### Constraints:\n",
    "- The number of nodes in each linked list is between 1 and 100.\n",
    "- The value of each node (digit) is between 0 and 9.\n",
    "- The input lists represent numbers without leading zeros.\n",
    "\n",
    "### Approach:\n",
    "1. **ListNode Definition:**\n",
    "   - A `ListNode` represents a single node in a linked list. It has two attributes:\n",
    "     - `val`: Represents the value of the node (digit).\n",
    "     - `next`: Represents the reference to the next node in the linked list.\n",
    "\n",
    "2. **addTwoNumbers Function:**\n",
    "   - This function takes two linked lists, `l1` and `l2`, as inputs.\n",
    "   - It initializes a dummy node to act as the head of the resulting linked list and starts traversing both `l1` and `l2` simultaneously.\n",
    "   - While traversing, it performs digit-by-digit addition, considering the carry from the previous addition.\n",
    "   - The result of the addition is stored in a new linked list, and its head is returned as the output.\n",
    "\n",
    "3. **Creating Linked Lists:**\n",
    "   - Two example linked lists (`l1` and `l2`) are created to represent the numbers given in reverse order.\n",
    "   - Each digit of the number is stored in a separate node of the linked list, and nodes are connected together by assigning the `next` attribute.\n",
    "\n",
    "4. **Calling addTwoNumbers Function:**\n",
    "   - The `addTwoNumbers` function is called with `l1` and `l2` as arguments to perform the addition.\n",
    "\n",
    "5. **Printing the Result:**\n",
    "   - The resulting linked list obtained from the addition is traversed, and its values are printed sequentially.\n",
    "   - Each value represents a digit in the resulting sum, and the digits are printed in reverse order to display the correct sum of the two numbers.\n",
    "\n",
    "The overall objective is to add two numbers represented by linked lists by performing digit-wise addition, carrying over when necessary, and returning the resultant linked list representing the sum. The code demonstrates this addition and prints the resulting linked list representing the sum of the given numbers."
   ]
  },
  {
   "cell_type": "markdown",
   "id": "c67361a1",
   "metadata": {},
   "source": [
    "## Deconstruction of the Code:\n",
    "1. **`ListNode`**: Defines a class representing a node in a singly-linked list. Each node contains a value (`val`) and a reference to the next node (`next`).\n",
    "\n",
    "2. **`def addTwoNumbers(l1, l2):`**: This function takes two linked lists (`l1` and `l2`) as input and returns a new linked list representing their sum.\n",
    "\n",
    "3. **`dummy = ListNode(0)`**: Creates a dummy node to act as the head of the resulting linked list.\n",
    "\n",
    "4. **`current = dummy`**: Initializes a pointer (`current`) to the dummy node.\n",
    "\n",
    "5. **`carry = 0`**: Initializes a variable to hold the carry value during addition.\n",
    "\n",
    "6. **`while l1 or l2 or carry:`**: Loops until both linked lists reach the end and there is no carry.\n",
    "\n",
    "7. **`sum_val = (l1.val if l1 else 0) + (l2.val if l2 else 0) + carry`**: Calculates the sum of the current digits and carry from both lists.\n",
    "\n",
    "8. **`carry = sum_val // 10`**: Computes the carry for the next iteration by dividing the sum by 10.\n",
    "\n",
    "9. **`current.next = ListNode(sum_val % 10)`**: Creates a new node with the digit of the sum (sum_val % 10) and appends it to the result linked list.\n",
    "\n",
    "10. **`current = current.next`**: Moves the pointer `current` to the next node in the result list.\n",
    "\n",
    "11. **`l1 = l1.next if l1 else None`** and **`l2 = l2.next if l2 else None`**: Moves to the next node in `l1` and `l2` (if available).\n",
    "\n",
    "12. **`return dummy.next`**: Returns the next node after the dummy node, which is the head of the resulting linked list.\n",
    "\n",
    "\n"
   ]
  },
  {
   "cell_type": "code",
   "execution_count": null,
   "id": "5ffc70cd",
   "metadata": {},
   "outputs": [],
   "source": [
    "##Creating Example Linked Lists:\n",
    "Example 1: l1 = [2, 4, 3], l2 = [5, 6, 4]\n",
    "l1 = ListNode(2)\n",
    "l1.next = ListNode(4)\n",
    "l1.next.next = ListNode(3)\n",
    "\n",
    "l2 = ListNode(5)\n",
    "l2.next = ListNode(6)\n",
    "l2.next.next = ListNode(4)"
   ]
  },
  {
   "cell_type": "markdown",
   "id": "1e8a157a",
   "metadata": {},
   "source": [
    "This section creates two linked lists l1 and l2, representing the numbers [2, 4, 3] and [5, 6, 4], respectively.\n",
    "Each node is created with a specific value and linked together by assigning the next attribute to the next node in the sequence."
   ]
  },
  {
   "cell_type": "code",
   "execution_count": null,
   "id": "8d0ef2bb",
   "metadata": {},
   "outputs": [],
   "source": [
    "##Calling addTwoNumbers Function:\n",
    "result = addTwoNumbers(l1, l2)"
   ]
  },
  {
   "cell_type": "markdown",
   "id": "992e05d5",
   "metadata": {},
   "source": [
    "Here, the addTwoNumbers function is called with l1 and l2 as arguments.\n",
    "This function adds the numbers represented by these linked lists and returns the resulting linked list."
   ]
  },
  {
   "cell_type": "code",
   "execution_count": null,
   "id": "d70a85b1",
   "metadata": {},
   "outputs": [],
   "source": [
    "##Printing the Resulting Linked List:\n",
    "while result:\n",
    "    print(result.val, end=\" \")\n",
    "    result = result.next"
   ]
  },
  {
   "cell_type": "markdown",
   "id": "f6de47a9",
   "metadata": {},
   "source": [
    "This part prints the values of the resulting linked list returned by addTwoNumbers.\n",
    "It iterates through each node of the resulting linked list, printing the value of each node and updating the result pointer to move to the next node until reaching the end (where result becomes None).\n",
    "The program creates two linked lists representing numbers, adds them using the addTwoNumbers function, and then prints the resulting linked list, demonstrating the addition of two numbers represented by linked lists. Adjust the values in l1 and l2 to test different cases."
   ]
  }
 ],
 "metadata": {
  "kernelspec": {
   "display_name": "Python 3 (ipykernel)",
   "language": "python",
   "name": "python3"
  },
  "language_info": {
   "codemirror_mode": {
    "name": "ipython",
    "version": 3
   },
   "file_extension": ".py",
   "mimetype": "text/x-python",
   "name": "python",
   "nbconvert_exporter": "python",
   "pygments_lexer": "ipython3",
   "version": "3.10.4"
  }
 },
 "nbformat": 4,
 "nbformat_minor": 5
}
